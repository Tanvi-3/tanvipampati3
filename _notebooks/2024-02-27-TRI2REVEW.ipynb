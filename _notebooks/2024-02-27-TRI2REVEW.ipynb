{
 "cells": [
  {
   "cell_type": "markdown",
   "metadata": {},
   "source": [
    "---\n",
    "layout: post\n",
    "title: TRI 2 INDIVIDUAL REVIEW\n",
    "type: hacks\n",
    "courses: { compsci: {week: 24} }\n",
    "hide: true\n",
    "---\n",
    "\n",
    "## Feature Planning\n",
    "\n",
    "Spotify: We recreated spotify and included features like a login page, playing songs, creating playlists, and having unique animations with the frontend design. \n",
    "\n",
    "\n",
    "My Role: I worked on the feature playing the songs. By developing the structure of the songs database, I was able to get the song links to work properly and fetched them onto the frontend using their respective ID's. By developing the second half of the songs api, which was the /api/songs/[id] page we were able to individually grab the songs ID and play them when needed. Finally, on the individual songs pages, I grabbed the individual data of the song, and used it to create a play button that plays or stops the song depending on the user. \n",
    "\n",
    "\n",
    "## COMPONENT A:\n",
    "\n",
    "- [ ] Instructions for input from one of the following:\n",
    "◆ the user (including user actions that trigger events)\n",
    "◆ a device\n",
    "◆ an online data stream\n",
    "◆ a file\n",
    "\n",
    "<img width=\"618\" alt=\"image\" src=\"https://github.com/paravsalaniwal/praopersonal/assets/111609656/10164bb1-a9f5-4a04-ac9b-58a6b9e691d9\">\n",
    "\n",
    "This meets the criteria for instructions for input from the user. It includes a form element with input fields for the username and password, prompting the user to enter their credentials. The onsubmit attribute of the form element calls the login_user function when the form is submitted, indicating user actions that trigger events. This setup allows the user to input their username and password directly into the form fields, fulfilling the requirement for input instructions from the user.\n",
    "\n",
    "\n",
    "- [ ] Use of at least one list (or other collection type) to represent a collection of data that is stored and used to manage program complexity and help fulfill the program’s purpose\n",
    "IMPORTANT: The data abstraction must make the program easier to develop (alternatives would be more complex) or easier to maintain (future changes to the size of the list would otherwise require significant modifications to the program code).\n",
    "\n",
    "<img width=\"791\" alt=\"image\" src=\"https://github.com/paravsalaniwal/praopersonal/assets/111609656/3b1d14c6-f84d-4e06-a468-839382586ae6\">\n",
    "\n",
    "The code utilizes a list to represent a collection of data, such as storing user input or maintaining a database of items. By using a list, the program efficiently manages the complexity of handling multiple pieces of related information. For instance, we are using a list to fill out the information of each song, including the name, URL, artist, and URI. This approach not only helps in organizing data but also facilitates easy retrieval and manipulation, contributing to fulfilling the program's purpose effectively. This list is then sent to the SQlite database which can be accessed in the frontend by GET methods.\n",
    "\n",
    "- [ ] At least one procedure that contributes to the program’s intended purpose, where you have defined:\n",
    "◆ the procedure’s name\n",
    "◆ the return type (if necessary)\n",
    "◆ one or more parameters\n",
    "IMPORTANT:\n",
    "Implementation of built-in or existing procedures or language structures, such as event handlers or main methods, are not considered student-developed.\n",
    "\n",
    "<img width=\"517\" alt=\"image\" src=\"https://github.com/paravsalaniwal/praopersonal/assets/111609656/8d4c5e0e-bc4f-487e-98ac-4254ba943a92\">\n",
    "\n",
    "This code implements a Flask API for managing songs, providing endpoints for creating, reading, updating, and deleting songs. The `create_song` method within the `SongAPI` class handles the creation of new songs by extracting data from the JSON payload of incoming requests and adding them to the database. It adheres to the specified requirement by encapsulating the procedure for creating songs within a clearly defined method, accepting no explicit parameters but accessing data from the request payload. Upon successful creation, the method returns a JSON response containing the newly created song's data along with an HTTP status code indicating success.\n",
    "\n",
    "- [ ] An algorithm that includes sequencing, selection, and iteration that is in the body of the selected procedure\n",
    "\n",
    "<img width=\"346\" alt=\"image\" src=\"https://github.com/paravsalaniwal/praopersonal/assets/111609656/847e2241-3180-4923-87a7-3d5c173929d1\">\n",
    "\n",
    "This segment of code meets the criteria by orchestrating a sequence of operations to update a song object based on provided arguments. Through conditional statements, it selectively updates the attributes of the song object, ensuring that only relevant changes are made. By iterating over the request arguments, it dynamically handles potential updates, allowing for a flexible and adaptable approach. Overall, this process exemplifies the essential programming concepts of sequencing, selection, and iteration within the context of updating song data in a RESTful API."
   ]
  },
  {
   "cell_type": "markdown",
   "metadata": {},
   "source": [
    "- [ ] Calls to your student-developed procedure\n",
    "\n",
    "The procedure is used in a loop to make HTML elements for each song based on the data fetched. These calls help the program work well by quickly making and adding song blocks to the playlist. This makes it easier for users to interact and manage the songs they see on the interface."
   ]
  },
  {
   "cell_type": "code",
   "execution_count": null,
   "metadata": {
    "vscode": {
     "languageId": "javascript"
    }
   },
   "outputs": [],
   "source": [
    "\n",
    "    // Fetch data from Flask backend\n",
    "    async function fetchData(songName) {\n",
    "        try {\n",
    "          const response = await fetch('http://127.0.0.1:8086/api/song/all');\n",
    "          const songsData = await response.json();\n",
    "  \n",
    "          const container = document.getElementById(\"albumList\");\n",
    "          const currentSongImage = document.getElementById(\"currentSongImage\");\n",
    "  \n",
    "          // Filter songs based on the specified song name\n",
    "          const filteredSongs = songsData.filter((song) => song._name === songName);\n",
    "  \n",
    "          // Map through the filtered list and create song cards\n",
    "          filteredSongs.forEach((song) => {\n",
    "            const itemBlock = createItemBlock(song);\n",
    "            container.appendChild(itemBlock);\n",
    "          });\n",
    "  \n",
    "          if (filteredSongs.length > 0) {\n",
    "            // Update the current song info based on the first filtered song\n",
    "            updateCurrentSongInfo(filteredSongs[0]);\n",
    "          }\n",
    "        } catch (error) {\n",
    "          console.error('Error fetching data:', error);\n",
    "        }\n",
    "      }"
   ]
  },
  {
   "cell_type": "markdown",
   "metadata": {},
   "source": [
    "- [ ] Instructions for output (tactile, audible, visual, or textual) based on input and\n",
    "program functionality\n",
    "\n",
    "This function updates the current song's information displayed on the frontend interface based on the data provided, including the song name and image URI. The function dynamically modifies the visual output by updating the song name and image displayed to the user, ensuring that the interface reflects the current state of the application and providing a visual indication of the currently playing song.\n"
   ]
  },
  {
   "cell_type": "code",
   "execution_count": null,
   "metadata": {
    "vscode": {
     "languageId": "javascript"
    }
   },
   "outputs": [],
   "source": [
    "\n",
    "    // Fetch data from Flask backend\n",
    "    async function fetchData(songName) {\n",
    "        try {\n",
    "          const response = await fetch('http://127.0.0.1:8086/api/song/all');\n",
    "          const songsData = await response.json();\n",
    "  \n",
    "          const container = document.getElementById(\"albumList\");\n",
    "          const currentSongImage = document.getElementById(\"currentSongImage\");\n",
    "  \n",
    "          // Filter songs based on the specified song name\n",
    "          const filteredSongs = songsData.filter((song) => song._name === songName);\n",
    "  \n",
    "          // Map through the filtered list and create song cards\n",
    "          filteredSongs.forEach((song) => {\n",
    "            const itemBlock = createItemBlock(song);\n",
    "            container.appendChild(itemBlock);\n",
    "          });\n",
    "  \n",
    "          if (filteredSongs.length > 0) {\n",
    "            // Update the current song info based on the first filtered song\n",
    "            updateCurrentSongInfo(filteredSongs[0]);\n",
    "          }\n",
    "        } catch (error) {\n",
    "          console.error('Error fetching data:', error);\n",
    "        }\n",
    "      }"
   ]
  },
  {
   "cell_type": "markdown",
   "metadata": {},
   "source": [
    "## COMPONENT B:\n",
    "\n",
    "link to video: https://youtu.be/iAYMLrRepxw \n",
    "requirements: □ Input to your program □ At least one aspect of the functionality of your program □ Output produced by your program Your video may NOT contain: □ Any distinguishing information about yourself □ Voice narration (though text captions are encouraged) Your video must be: □ Either .webm, .mp4, .wmv, .avi, or .mov format □ No more than 1 minute in length □ No more than 30MB in file size"
   ]
  }
 ],
 "metadata": {
  "language_info": {
   "name": "python"
  }
 },
 "nbformat": 4,
 "nbformat_minor": 2
}
