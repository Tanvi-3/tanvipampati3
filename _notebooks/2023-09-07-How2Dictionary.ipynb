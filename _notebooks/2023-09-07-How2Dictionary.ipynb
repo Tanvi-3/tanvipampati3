{
 "cells": [
  {
   "cell_type": "markdown",
   "metadata": {},
   "source": [
    "---\n",
    "toc: true\n",
    "comments: true\n",
    "layout: post\n",
    "title: How to create a Python Dictionary\n",
    "type: hacks\n",
    "courses: { compsci: {week: 3} }\n",
    "---\n"
   ]
  },
  {
   "cell_type": "markdown",
   "metadata": {},
   "source": [
    "## Python Dictionary: \n",
    "once you enter a word, it will provide you with its part of speech and definition\n",
    "- It is necessary to instally 'PyDictionary' library because it enables the use of its functionality, such as looking up word meanings, synonyms, antonyms, and more\n",
    "- After installing 'PyDictionary' in order to create a simple interactive way to look up meaning through the library, its important to run the code below."
   ]
  },
  {
   "cell_type": "code",
   "execution_count": null,
   "metadata": {},
   "outputs": [],
   "source": [
    "pip install PyDictionary"
   ]
  },
  {
   "cell_type": "code",
   "execution_count": null,
   "metadata": {},
   "outputs": [],
   "source": [
    "from PyDictionary import PyDictionary\n",
    "\n",
    "# Initialize the PyDictionary\n",
    "dictionary = PyDictionary()\n",
    "\n",
    "# Function to fetch the meaning of a word\n",
    "def fetch_meaning(word):\n",
    "    try:\n",
    "        meanings = dictionary.meaning(word)\n",
    "        if meanings:\n",
    "            for part_of_speech, definition_list in meanings.items():\n",
    "                print(f\"{part_of_speech}:\")\n",
    "                for definition in definition_list:\n",
    "                    print(f\"  - {definition}\")\n",
    "        else:\n",
    "            print(f\"Meaning not found for '{word}'\")\n",
    "    except Exception as e:\n",
    "        print(f\"An error occurred: {e}\")\n",
    "\n",
    "# Simple CLI interface for word lookup\n",
    "while True:\n",
    "    user_input = input(\"Enter a word to lookup (or 'exit' to quit): \").strip()\n",
    "    \n",
    "    if user_input.lower() == 'exit':\n",
    "        break\n",
    "    \n",
    "    fetch_meaning(user_input)\n"
   ]
  },
  {
   "cell_type": "markdown",
   "metadata": {},
   "source": [
    "## What is happening?\n",
    "- the code imports 'PyDictionary' library for looking up questions regarding the word\n",
    "- Then, you run a computer program (the code) that uses the special tool to find the meanings of words\n",
    "- the program asks to type a word \n",
    "- The program will tell you what the word means"
   ]
  },
  {
   "cell_type": "markdown",
   "metadata": {},
   "source": [
    "## Hack:\n",
    "- Make a Python Dictionary\n",
    "- This is a Python script that lets you find the meaning of words\n",
    "- Using a new python library called PyDictionary to perfrom the meaning lookups\n",
    "- use pip to install PyDictionary"
   ]
  }
 ],
 "metadata": {
  "language_info": {
   "name": "python"
  },
  "orig_nbformat": 4
 },
 "nbformat": 4,
 "nbformat_minor": 2
}
