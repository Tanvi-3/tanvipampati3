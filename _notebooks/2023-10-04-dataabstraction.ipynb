{
 "cells": [
  {
   "cell_type": "markdown",
   "metadata": {},
   "source": [
    "---\n",
    "toc: true\n",
    "comments: true\n",
    "layout: post\n",
    "title: Data Abstraction Team Teach\n",
    "type: Tangibles\n",
    "courses: { compsci: {week: 8} }\n",
    "---"
   ]
  },
  {
   "cell_type": "code",
   "execution_count": null,
   "metadata": {},
   "outputs": [],
   "source": [
    "# Hack 1\n",
    "\n",
    "# Variable 1 is an integer\n",
    "\n",
    "# Variable 2 is a string\n",
    "\n",
    "# Variable 3 is a list\n",
    "\n",
    "# Variable 4 is a Boolean"
   ]
  },
  {
   "cell_type": "code",
   "execution_count": 19,
   "metadata": {},
   "outputs": [
    {
     "name": "stdout",
     "output_type": "stream",
     "text": [
      "3\n",
      "pasta is my favorite food and it is made of flour\n",
      "dog is the cutest animal of my favorite\n",
      "True, Physics is not easy\n",
      "<class 'list'>\n",
      "[\"dolphin\", \"dog\", \"cow\", \"parrot\", \"peacocks\"]\n",
      "<class 'str'>\n"
     ]
    }
   ],
   "source": [
    "# Hack 2 - I accidentally personalized all the variable!!!\n",
    "\n",
    "# Variable 1\n",
    "\n",
    "luckynumber = 3\n",
    "print(luckynumber)\n",
    "\n",
    "#Variable 2\n",
    "\n",
    "favfood = \"pasta\"\n",
    "ingrediant = \" flour\"\n",
    "print(favfood + (\" is my favorite food and it is made of\") + (ingrediant))\n",
    "\n",
    "#Variable 3\n",
    "\n",
    "favAnimals = [\"dolphin\", \"dog\", \"cow\", \"parrot\", \"peacocks\"]\n",
    "print(favAnimals[1] + (\" is the cutest animal of my favorite\"))\n",
    "\n",
    "#Variable 4\n",
    "\n",
    "PhysicsisHard = True\n",
    "print(str(PhysicsisHard)+ (\", Physics is not easy\"))\n",
    "\n",
    "\n",
    "#Hack 2 with JSON\n",
    "\n",
    "import json\n",
    "favAnimals = [\"dolphin\", \"dog\", \"cow\", \"parrot\", \"peacocks\"]\n",
    "print(type(favAnimals))\n",
    "m = json.dumps(favAnimals)\n",
    "print(m)\n",
    "print(type(m))"
   ]
  }
 ],
 "metadata": {
  "kernelspec": {
   "display_name": "Python 3",
   "language": "python",
   "name": "python3"
  },
  "language_info": {
   "codemirror_mode": {
    "name": "ipython",
    "version": 3
   },
   "file_extension": ".py",
   "mimetype": "text/x-python",
   "name": "python",
   "nbconvert_exporter": "python",
   "pygments_lexer": "ipython3",
   "version": "3.11.4"
  },
  "orig_nbformat": 4
 },
 "nbformat": 4,
 "nbformat_minor": 2
}
