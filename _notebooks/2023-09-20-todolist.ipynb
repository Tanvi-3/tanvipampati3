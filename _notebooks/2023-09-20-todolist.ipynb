{
 "cells": [
  {
   "cell_type": "markdown",
   "metadata": {},
   "source": [
    "---\n",
    "comments: true\n",
    "layout: post\n",
    "title: To Do list\n",
    "type: hacks\n",
    "courses: { compsci: {week: 5} }\n",
    "---"
   ]
  },
  {
   "cell_type": "code",
   "execution_count": null,
   "metadata": {},
   "outputs": [],
   "source": [
    "#Create an empty list to store tasks\n",
    "tasks = []\n",
    "\n",
    "#Function to add a task to the list\n",
    "def add_task():\n",
    "    task = input(\"Enter a task: \")\n",
    "    tasks.append(task)\n",
    "    print(f\"Task '{task}' added successfully!\")\n",
    "\n",
    "#Function to view the task list\n",
    "def view_tasks():\n",
    "    if not tasks:\n",
    "        print(\"No tasks in the list.\")\n",
    "    else:\n",
    "        print(\"Tasks:\")\n",
    "        for index, task in enumerate(tasks, start=1):\n",
    "            print(f\"{index}. {task}\")\n",
    "\n",
    "#Function to mark a task as complete\n",
    "def complete_task():\n",
    "    view_tasks()\n",
    "    if tasks:\n",
    "        task_index = int(input(\"Enter the number of the task you completed: \"))\n",
    "        if 1 <= task_index <= len(tasks):\n",
    "            completed_task = tasks.pop(task_index - 1)\n",
    "            print(f\"Task '{completed_task}' marked as complete.\")\n",
    "        else:\n",
    "            print(\"Invalid task number.\")\n",
    "    else:\n",
    "        print(\"No tasks to mark as complete.\")\n",
    "\n",
    "#Main loop\n",
    "while True:\n",
    "    print(\"\\nOptions:\")\n",
    "    print(\"1. Add a task\")\n",
    "    print(\"2. View tasks\")\n",
    "    print(\"3. Mark a task as complete\")\n",
    "    print(\"4. Quit\")\n",
    "\n",
    "    choice = input(\"Enter your choice (1/2/3/4): \")\n",
    "\n",
    "    if choice == '1':\n",
    "        add_task()\n",
    "    elif choice == '2':\n",
    "        view_tasks()\n",
    "    elif choice == '3':\n",
    "        complete_task()\n",
    "    elif choice == '4':\n",
    "        print(\"Goodbye!\")\n",
    "        break\n",
    "    else:\n",
    "        print(\"Invalid choice. Please try again.\")\n"
   ]
  }
 ],
 "metadata": {
  "language_info": {
   "name": "python"
  },
  "orig_nbformat": 4
 },
 "nbformat": 4,
 "nbformat_minor": 2
}
