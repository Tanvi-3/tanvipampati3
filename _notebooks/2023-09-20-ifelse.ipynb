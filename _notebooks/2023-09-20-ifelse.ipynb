{
 "cells": [
  {
   "cell_type": "markdown",
   "metadata": {},
   "source": [
    "---\n",
    "comments: true\n",
    "layout: post\n",
    "title: Show comments and code logic that reduces errors in code with if / else statements.\n",
    "type: hacks\n",
    "courses: { compsci: {week: 5} }\n",
    "---"
   ]
  },
  {
   "cell_type": "code",
   "execution_count": null,
   "metadata": {},
   "outputs": [],
   "source": [
    "# Example: A function to calculate the square root of a number\n",
    "\n",
    "import math\n",
    "\n",
    "def calculate_square_root(number):\n",
    "    # Check if the input is negative\n",
    "    if number < 0:\n",
    "        raise ValueError(\"Input should be a non-negative number.\")\n",
    "\n",
    "    # Use the math.sqrt function to calculate the square root\n",
    "    result = math.sqrt(number)\n",
    "\n",
    "    return result\n",
    "\n",
    "# Test cases\n",
    "try:\n",
    "    result = calculate_square_root(9)  # Should return 3.0\n",
    "    print(f\"Square root result: {result}\")\n",
    "except ValueError as ve:\n",
    "    print(f\"Error: {ve}\")\n",
    "\n",
    "try:\n",
    "    result = calculate_square_root(-1)  # Should raise a ValueError\n",
    "    print(f\"Square root result: {result}\")\n",
    "except ValueError as ve:\n",
    "    print(f\"Error: {ve}\")\n"
   ]
  }
 ],
 "metadata": {
  "language_info": {
   "name": "python"
  },
  "orig_nbformat": 4
 },
 "nbformat": 4,
 "nbformat_minor": 2
}
