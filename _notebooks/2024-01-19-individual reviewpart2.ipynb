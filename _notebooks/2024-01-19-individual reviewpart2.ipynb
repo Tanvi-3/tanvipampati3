{
 "cells": [
  {
   "cell_type": "markdown",
   "metadata": {},
   "source": [
    "## Trimester 1 AP CSP\n",
    " In the first trimester of AP computer science principles, I learned the basics of repositories and navigating through github and vscode. The trimester started off with creating my own personal repository and learning about notebooks and markdown files and how to add it into my own timebox. That trimester my group decided to create a weather app and that project helped me understand the importance of a backend repository and API's. Trimester 1 gave me a base understanding on how to manage and understand further projects\n",
    "\n",
    "## Trimester 2 AP CSP:\n",
    "This trimester we started off with team teaches that gave us more theoretical fundamental knowledge that were the main components of the collegeboard multiple choice exam. With our group we did a warm up CPT project and it helped me learn about binary basics and the use of AI in our project. It was based off the same fundamnentals we had learned first trimester but more futher in. This new project abotu login pages have been slowly allowing me to gain a better understanding because of the alongside team teaches that are about components of the login pages.\n",
    "\n",
    "## Peer Grades of the Binary Project:\n",
    "- Tanay:\n",
    "- Tanvi:\n",
    "- Tarun:\n",
    "- Shubey:\n",
    "- Pranavi:\n",
    "\n",
    "## Collegeboard Quiz\n",
    "2020 Practice exam: 64/67\n",
    "- below are my reflection and information about the questions I got incorrect.\n",
    "\n",
    "![Screenshot 2023-12-23 at 10.08.29 PM.png](<attachment:Screenshot 2023-12-23 at 10.08.29 PM.png>)\n",
    "\n",
    "My answer: D, These inputs will produce a false and a true which will overall make an output of false\n",
    "\n",
    "Correct Answer: C, These inputs will allow both outputs to be true making an overall output of true. \n",
    "\n",
    "Reflection: Understanding AND OR statements would guide me to answer the question correctly. \n",
    "\n",
    "![Screenshot 2023-12-23 at 10.08.48 PM.png](<attachment:Screenshot 2023-12-23 at 10.08.48 PM.png>)\n",
    "\n",
    "My answer: B\n",
    "\n",
    "Correct Answer: A\n",
    "\n",
    "Reflection: I am not as familiar with the binary numbers format and how to read it, due to that I got the answer wrong. To not repeat this mistake, I can try to learn how to read binary numbers and how the order of the 1s and 0s make an effect. \n",
    "\n",
    "![Screenshot 2023-12-23 at 10.09.11 PM.png](<attachment:Screenshot 2023-12-23 at 10.09.11 PM.png>)\n",
    "\n",
    "My answer: C and D, these code segments initilizes to 0 and loops it to be at 1, producing false outputs\n",
    "\n",
    "Correct Answer: A and B, These code sgements resetted the count back to 0 after each run. \n",
    "\n",
    "Reflection: I wasn't able to interpret how to read these code segments as I didn't fully understand which part had to be read first and which segments would be looped.\n",
    "\n",
    "\n",
    "FINAL REFLECTION:\n",
    "The recent team teaches has helped me understand and learn new concepts that are clearly tested on the collegeboard practice exams. Taking a practice exam last trimester to this trimester showed signficant improvement as I learned new concepts and its applications. The areas that I'm not as familiar with are binary and AND/OR statements as I have less experience with it. To improve my score I need to have more practice and familiarity with the format of the questions and what the intention of the question is. If watch some collegeboard videos regarding these topics I will have formed a better understanding of these areas and hopefully will allow me to perform even better.  \n"
   ]
  }
 ],
 "metadata": {
  "language_info": {
   "name": "python"
  }
 },
 "nbformat": 4,
 "nbformat_minor": 2
}
