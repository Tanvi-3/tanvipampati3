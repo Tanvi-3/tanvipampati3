{
 "cells": [
  {
   "cell_type": "code",
   "execution_count": null,
   "metadata": {},
   "outputs": [],
   "source": [
    "from flask import Flask, render_template, request, redirect, url_for\n",
    "\n",
    "app = Flask(__name__)\n",
    "\n",
    "@app.route('/')\n",
    "def index():\n",
    "    return render_template('index.html')\n",
    "\n",
    "@app.route('/signup', methods=['GET', 'POST'])\n",
    "def signup():\n",
    "    if request.method == 'POST':\n",
    "        # Handle signup form submission\n",
    "        # Process signup data\n",
    "        return redirect(url_for('login'))\n",
    "    return render_template('signup.html')\n",
    "\n",
    "@app.route('/login', methods=['GET', 'POST'])\n",
    "def login():\n",
    "    if request.method == 'POST':\n",
    "        # Handle login form submission\n",
    "        # Verify credentials\n",
    "        return redirect(url_for('dashboard'))\n",
    "    return render_template('login.html')\n",
    "\n",
    "@app.route('/dashboard')\n",
    "def dashboard():\n",
    "    return \"Dashboard Page\"\n",
    "\n",
    "if __name__ == '__main__':\n",
    "    app.run(debug=True)\n"
   ]
  }
 ],
 "metadata": {
  "language_info": {
   "name": "python"
  }
 },
 "nbformat": 4,
 "nbformat_minor": 2
}
