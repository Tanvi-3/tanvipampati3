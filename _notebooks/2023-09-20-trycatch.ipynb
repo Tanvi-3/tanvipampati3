{
 "cells": [
  {
   "cell_type": "markdown",
   "metadata": {},
   "source": [
    "---\n",
    "comments: true\n",
    "layout: post\n",
    "title: Show comments and code logic that reduces errors in code with try / catch statements.\n",
    "type: hacks\n",
    "courses: { compsci: {week: 5} }\n",
    "---"
   ]
  },
  {
   "cell_type": "code",
   "execution_count": null,
   "metadata": {},
   "outputs": [],
   "source": [
    "# Example: A function to divide two numbers\n",
    "\n",
    "def divide_numbers(dividend, divisor):\n",
    "    try:\n",
    "        # Attempt to perform the division\n",
    "        result = dividend / divisor\n",
    "\n",
    "        # Return the result if successful\n",
    "        return result\n",
    "\n",
    "    except ZeroDivisionError as zde:\n",
    "        # Handle division by zero error\n",
    "        print(f\"Error: Division by zero is not allowed. {zde}\")\n",
    "        return None\n",
    "\n",
    "    except TypeError as te:\n",
    "        # Handle type error (e.g., if either dividend or divisor is not a number)\n",
    "        print(f\"Error: Invalid input. {te}\")\n",
    "        return None\n",
    "\n",
    "# Test cases\n",
    "result = divide_numbers(10, 2)  # Should return 5.0\n",
    "if result is not None:\n",
    "    print(f\"Division result: {result}\")\n",
    "\n",
    "result = divide_numbers(10, 0)  # Should handle division by zero error\n",
    "if result is not None:\n",
    "    print(f\"Division result: {result}\")\n",
    "\n",
    "result = divide_numbers(\"10\", 2)  # Should handle type error\n",
    "if result is not None:\n",
    "    print(f\"Division result: {result}\")\n"
   ]
  }
 ],
 "metadata": {
  "language_info": {
   "name": "python"
  },
  "orig_nbformat": 4
 },
 "nbformat": 4,
 "nbformat_minor": 2
}
