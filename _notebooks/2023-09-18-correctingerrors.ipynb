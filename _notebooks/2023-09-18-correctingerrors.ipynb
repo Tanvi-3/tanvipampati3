{
 "cells": [
  {
   "cell_type": "markdown",
   "metadata": {},
   "source": [
    "---\n",
    "toc: true\n",
    "comments: true\n",
    "layout: post\n",
    "title: 1.4 Correcting errors\n",
    "type: hacks\n",
    "courses: { compsci: {week: 4} }\n",
    "---\n"
   ]
  },
  {
   "cell_type": "code",
   "execution_count": 3,
   "metadata": {},
   "outputs": [
    {
     "name": "stdout",
     "output_type": "stream",
     "text": [
      "Menu\n",
      "burger  $3.99\n",
      "fries  $1.99\n",
      "drink  $0.99\n",
      "0\n"
     ]
    }
   ],
   "source": [
    "menu =  {\"burger\": 3.99,\n",
    "         \"fries\": 1.99,\n",
    "         \"drink\": 0.99}\n",
    "total = 0\n",
    "\n",
    "#shows the user the menu and prompts them to select an item\n",
    "print(\"Menu\")\n",
    "for k,v in menu.items():\n",
    "    print(k + \"  $\" + str(v)) #why does v have \"str\" in front of it?\n",
    "\n",
    "#ideally the code should prompt the user multiple times\n",
    "item = input(\"Please select an item from the menu\")\n",
    "\n",
    "#code should add the price of the menu items selected by the user \n",
    "print(total)"
   ]
  },
  {
   "cell_type": "code",
   "execution_count": 9,
   "metadata": {},
   "outputs": [
    {
     "name": "stdout",
     "output_type": "stream",
     "text": [
      "Menu\n",
      "Burger: $3.99\n",
      "Fries: $1.99\n",
      "Drink: $0.99\n",
      "Added burger to your order. Total: $3.99\n",
      "Menu\n",
      "Burger: $3.99\n",
      "Fries: $1.99\n",
      "Drink: $0.99\n",
      "Your total bill is: $3.99\n"
     ]
    }
   ],
   "source": [
    "menu = {\n",
    "    \"burger\": 3.99,\n",
    "    \"fries\": 1.99,\n",
    "    \"drink\": 0.99\n",
    "}\n",
    "total = 0\n",
    "\n",
    "while True:\n",
    "    print(\"Menu\")\n",
    "    for item, price in menu.items():\n",
    "        print(f\"{item.capitalize()}: ${price:.2f}\")\n",
    "    \n",
    "    choice = input(\"Please select an item from the menu (or 'done' to finish): \").lower()\n",
    "    \n",
    "    if choice == 'done':\n",
    "        break\n",
    "    \n",
    "    if choice in menu:\n",
    "        total += menu[choice]\n",
    "        print(f\"Added {choice} to your order. Total: ${total:.2f}\")\n",
    "    else:\n",
    "        print(\"Invalid item. Please choose from the menu.\")\n",
    "\n",
    "print(f\"Your total bill is: ${total:.2f}\")\n"
   ]
  }
 ],
 "metadata": {
  "kernelspec": {
   "display_name": "Python 3",
   "language": "python",
   "name": "python3"
  },
  "language_info": {
   "codemirror_mode": {
    "name": "ipython",
    "version": 3
   },
   "file_extension": ".py",
   "mimetype": "text/x-python",
   "name": "python",
   "nbconvert_exporter": "python",
   "pygments_lexer": "ipython3",
   "version": "3.11.4"
  },
  "orig_nbformat": 4
 },
 "nbformat": 4,
 "nbformat_minor": 2
}
