{
 "cells": [
  {
   "cell_type": "code",
   "execution_count": null,
   "metadata": {},
   "outputs": [],
   "source": [
    "<h2>Weather Application</h2> #The first line provides as a header to the application as Weather Application\n",
    "        <img src=\"http://localhost:8531/static/assets/sunny_weather.png\" id = \"weatherIcon\"  height=\"200\" width=\"200\">\n",
    "# To make the application look appealing we stored images that correlate with the temperature. The next line essentially shows fetching the stored images from the backend \n",
    "# We set the height and width of the image\n",
    "        <input type=\"text\" id=\"location\" placeholder=\"Enter city name\" autofocus onkeyup=\"handleKeyPress(event)\">\n",
    "        <div class=\"button-container\">\n",
    "# The next line uses the html input element to provide input field for the user to enter a city name\n",
    "# We added a placeholder text that displays to hint to the user to type a location (city name)\n",
    "# We used the autofocus feature so that the user can start typing the city name without clicking and when the user releases the enter key it’ll display the results \n",
    "            <button class=\"button-spacing\" onclick=\"getWindSpeed()\">Wind Speed</button>\n",
    "            <button class=\"button-spacing\" onclick=\"getTemperature()\">Temperature</button>\n",
    "            <button class=\"button-spacing\" onclick=\"getPrecipitation()\">Precipitation</button>\n",
    "# Using html we created 3 buttons, using button container it groups the button together \n",
    "# The on-click feature allows the results to be displayed when the button is clicked on\n",
    "# Using the javascript functions “getWindSpeed”, “getTemperature”, and “getPrecipitation” to fetch the data that corresponds to the button from the weather api on the backend\n",
    "        </div>\n",
    "        <div id=\"result\"></div>\n",
    "    </div>"
   ]
  },
  {
   "cell_type": "code",
   "execution_count": null,
   "metadata": {
    "vscode": {
     "languageId": "javascript"
    }
   },
   "outputs": [],
   "source": [
    "fetch('http://localhost:8531/api/weather/' + location)\n",
    "                .then(response => response.json())\n",
    "                .then(data => {\n",
    "                    let imageFetchUrl = 'http://localhost:8531/api/cityimage/' + location;\n",
    "                    fetch(imageFetchUrl)\n",
    "                        .then(response => response.json())\n",
    "                        .then(imageData => {\n",
    "                            let imageUrl = imageData.image_url; // Assuming the URL is stored in a field named 'url'\n",
    "                            console.log(\"IMAGE_URL====\"+ imageUrl)\n",
    "                            var image = document.getElementById('weatherIcon')\n",
    "                            image.src = data[\"current\"][\"weatherIcon_url\"]"
   ]
  },
  {
   "cell_type": "markdown",
   "metadata": {},
   "source": [
    "In a web application, the connection between the backend and frontend when fetching an API involves a crucial data exchange process. The frontend, which is the user interface presented in a web browser, initiates the request to the backend, typically using JavaScript and the fetch API. This request is sent to the backend server, which hosts the application's business logic and database interactions. The backend processes the request, often by querying databases or interacting with other services, and then formulates an appropriate response, typically in a structured data format like JSON. This response is sent back to the frontend, where it is received and parsed. The frontend can then utilize this data to dynamically update the user interface, providing real-time information or rendering elements like images, text, or interactive components."
   ]
  }
 ],
 "metadata": {
  "language_info": {
   "name": "python"
  }
 },
 "nbformat": 4,
 "nbformat_minor": 2
}
