{
 "cells": [
  {
   "cell_type": "markdown",
   "metadata": {},
   "source": [
    "---\n",
    "toc: true\n",
    "comments: true\n",
    "layout: post\n",
    "title: Python Dictionary\n",
    "type: hacks\n",
    "courses: { compsci: {week: 3} }\n",
    "---\n"
   ]
  },
  {
   "cell_type": "code",
   "execution_count": null,
   "metadata": {},
   "outputs": [],
   "source": [
    "pip install PyDictionary"
   ]
  },
  {
   "cell_type": "code",
   "execution_count": 2,
   "metadata": {},
   "outputs": [
    {
     "name": "stdout",
     "output_type": "stream",
     "text": [
      "Verb:\n",
      "  - enter or assume a certain state or condition\n",
      "  - undergo a change or development\n",
      "  - come into existence\n",
      "  - enhance the appearance of\n",
      "Meaning not found for ''\n",
      "Meaning not found for ''\n"
     ]
    }
   ],
   "source": [
    "from PyDictionary import PyDictionary\n",
    "\n",
    "# Initialize the PyDictionary\n",
    "dictionary = PyDictionary()\n",
    "\n",
    "# Function to fetch the meaning of a word\n",
    "def fetch_meaning(word):\n",
    "    try:\n",
    "        meanings = dictionary.meaning(word)\n",
    "        if meanings:\n",
    "            for part_of_speech, definition_list in meanings.items():\n",
    "                print(f\"{part_of_speech}:\")\n",
    "                for definition in definition_list:\n",
    "                    print(f\"  - {definition}\")\n",
    "        else:\n",
    "            print(f\"Meaning not found for '{word}'\")\n",
    "    except Exception as e:\n",
    "        print(f\"An error occurred: {e}\")\n",
    "\n",
    "# Simple CLI interface for word lookup\n",
    "while True:\n",
    "    user_input = input(\"Enter a word to lookup (or 'exit' to quit): \").strip()\n",
    "    \n",
    "    if user_input.lower() == 'exit':\n",
    "        break\n",
    "    \n",
    "    fetch_meaning(user_input)"
   ]
  }
 ],
 "metadata": {
  "kernelspec": {
   "display_name": "Python 3",
   "language": "python",
   "name": "python3"
  },
  "language_info": {
   "codemirror_mode": {
    "name": "ipython",
    "version": 3
   },
   "file_extension": ".py",
   "mimetype": "text/x-python",
   "name": "python",
   "nbconvert_exporter": "python",
   "pygments_lexer": "ipython3",
   "version": "3.11.4"
  },
  "orig_nbformat": 4
 },
 "nbformat": 4,
 "nbformat_minor": 2
}
