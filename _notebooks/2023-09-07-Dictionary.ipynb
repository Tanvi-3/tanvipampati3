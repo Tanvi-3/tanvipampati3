{
 "cells": [
  {
   "cell_type": "markdown",
   "metadata": {},
   "source": [
    "---\n",
    "toc: true\n",
    "comments: true\n",
    "layout: post\n",
    "title: Python Dictionary\n",
    "type: hacks\n",
    "courses: { compsci: {week: 3} }\n",
    "---\n"
   ]
  },
  {
   "cell_type": "code",
   "execution_count": null,
   "metadata": {},
   "outputs": [],
   "source": [
    "pip install PyDictionary"
   ]
  },
  {
   "cell_type": "code",
   "execution_count": null,
   "metadata": {},
   "outputs": [],
   "source": [
    "from PyDictionary import PyDictionary\n",
    "\n",
    "# Initialize the PyDictionary\n",
    "dictionary = PyDictionary()\n",
    "\n",
    "# Function to fetch the meaning of a word\n",
    "def fetch_meaning(word):\n",
    "    try:\n",
    "        meanings = dictionary.meaning(word)\n",
    "        if meanings:\n",
    "            for part_of_speech, definition_list in meanings.items():\n",
    "                print(f\"{part_of_speech}:\")\n",
    "                for definition in definition_list:\n",
    "                    print(f\"  - {definition}\")\n",
    "        else:\n",
    "            print(f\"Meaning not found for '{word}'\")\n",
    "    except Exception as e:\n",
    "        print(f\"An error occurred: {e}\")\n",
    "\n",
    "# Simple CLI interface for word lookup\n",
    "while True:\n",
    "    user_input = input(\"Enter a word to lookup (or 'exit' to quit): \").strip()\n",
    "    \n",
    "    if user_input.lower() == 'exit':\n",
    "        break\n",
    "    \n",
    "    fetch_meaning(user_input)\n"
   ]
  }
 ],
 "metadata": {
  "kernelspec": {
   "display_name": "Python 3",
   "language": "python",
   "name": "python3"
  },
  "language_info": {
   "name": "python",
   "version": "3.11.4"
  },
  "orig_nbformat": 4
 },
 "nbformat": 4,
 "nbformat_minor": 2
}
